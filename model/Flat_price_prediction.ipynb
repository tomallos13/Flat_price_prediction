{
 "cells": [
  {
   "cell_type": "code",
   "execution_count": 2,
   "id": "657b6174-f4a7-4a4a-b0cd-681466947337",
   "metadata": {},
   "outputs": [],
   "source": [
    "import pandas as pd\n",
    "import numpy as np\n",
    "import matplotlib.pyplot as plt\n",
    "import seaborn as sns\n",
    "%matplotlib inline"
   ]
  },
  {
   "cell_type": "code",
   "execution_count": 3,
   "id": "b3aeb271-7147-436f-b060-e2e1f64669a1",
   "metadata": {},
   "outputs": [
    {
     "data": {
      "text/html": [
       "<div>\n",
       "<style scoped>\n",
       "    .dataframe tbody tr th:only-of-type {\n",
       "        vertical-align: middle;\n",
       "    }\n",
       "\n",
       "    .dataframe tbody tr th {\n",
       "        vertical-align: top;\n",
       "    }\n",
       "\n",
       "    .dataframe thead th {\n",
       "        text-align: right;\n",
       "    }\n",
       "</style>\n",
       "<table border=\"1\" class=\"dataframe\">\n",
       "  <thead>\n",
       "    <tr style=\"text-align: right;\">\n",
       "      <th></th>\n",
       "      <th>price</th>\n",
       "      <th>size</th>\n",
       "      <th>balcony</th>\n",
       "      <th>juliet_balcony</th>\n",
       "      <th>basement</th>\n",
       "      <th>terrace</th>\n",
       "      <th>loggia</th>\n",
       "      <th>yard</th>\n",
       "      <th>attic</th>\n",
       "      <th>floor</th>\n",
       "      <th>rooms</th>\n",
       "      <th>offering</th>\n",
       "      <th>date_listed</th>\n",
       "      <th>street</th>\n",
       "      <th>borough</th>\n",
       "    </tr>\n",
       "  </thead>\n",
       "  <tbody>\n",
       "    <tr>\n",
       "      <th>0</th>\n",
       "      <td>19900</td>\n",
       "      <td>118.0</td>\n",
       "      <td>0</td>\n",
       "      <td>0</td>\n",
       "      <td>0</td>\n",
       "      <td>1</td>\n",
       "      <td>0</td>\n",
       "      <td>0</td>\n",
       "      <td>0</td>\n",
       "      <td>4.0</td>\n",
       "      <td>3.0</td>\n",
       "      <td>agency</td>\n",
       "      <td>2023-06-18</td>\n",
       "      <td>Witolda</td>\n",
       "      <td>Stare miasto</td>\n",
       "    </tr>\n",
       "    <tr>\n",
       "      <th>1</th>\n",
       "      <td>19000</td>\n",
       "      <td>120.0</td>\n",
       "      <td>0</td>\n",
       "      <td>0</td>\n",
       "      <td>0</td>\n",
       "      <td>1</td>\n",
       "      <td>0</td>\n",
       "      <td>1</td>\n",
       "      <td>0</td>\n",
       "      <td>0.0</td>\n",
       "      <td>4.0</td>\n",
       "      <td>agency</td>\n",
       "      <td>2023-02-16</td>\n",
       "      <td>Bartla</td>\n",
       "      <td>Śródmieście</td>\n",
       "    </tr>\n",
       "    <tr>\n",
       "      <th>2</th>\n",
       "      <td>18000</td>\n",
       "      <td>113.0</td>\n",
       "      <td>0</td>\n",
       "      <td>0</td>\n",
       "      <td>0</td>\n",
       "      <td>0</td>\n",
       "      <td>0</td>\n",
       "      <td>0</td>\n",
       "      <td>0</td>\n",
       "      <td>4.0</td>\n",
       "      <td>3.0</td>\n",
       "      <td>agency</td>\n",
       "      <td>2022-01-24</td>\n",
       "      <td>Pomorska</td>\n",
       "      <td>Stare miasto</td>\n",
       "    </tr>\n",
       "    <tr>\n",
       "      <th>3</th>\n",
       "      <td>16000</td>\n",
       "      <td>110.0</td>\n",
       "      <td>0</td>\n",
       "      <td>0</td>\n",
       "      <td>0</td>\n",
       "      <td>0</td>\n",
       "      <td>0</td>\n",
       "      <td>0</td>\n",
       "      <td>0</td>\n",
       "      <td>47.0</td>\n",
       "      <td>2.0</td>\n",
       "      <td>agency</td>\n",
       "      <td>2022-05-26</td>\n",
       "      <td>Gwiaździsta</td>\n",
       "      <td>Krzyki</td>\n",
       "    </tr>\n",
       "    <tr>\n",
       "      <th>4</th>\n",
       "      <td>16000</td>\n",
       "      <td>120.0</td>\n",
       "      <td>0</td>\n",
       "      <td>0</td>\n",
       "      <td>0</td>\n",
       "      <td>1</td>\n",
       "      <td>0</td>\n",
       "      <td>0</td>\n",
       "      <td>0</td>\n",
       "      <td>1.0</td>\n",
       "      <td>4.0</td>\n",
       "      <td>agency</td>\n",
       "      <td>2023-03-17</td>\n",
       "      <td>Racławicka</td>\n",
       "      <td>Krzyki</td>\n",
       "    </tr>\n",
       "  </tbody>\n",
       "</table>\n",
       "</div>"
      ],
      "text/plain": [
       "   price   size  balcony  juliet_balcony  basement  terrace  loggia  yard  \\\n",
       "0  19900  118.0        0               0         0        1       0     0   \n",
       "1  19000  120.0        0               0         0        1       0     1   \n",
       "2  18000  113.0        0               0         0        0       0     0   \n",
       "3  16000  110.0        0               0         0        0       0     0   \n",
       "4  16000  120.0        0               0         0        1       0     0   \n",
       "\n",
       "   attic  floor  rooms offering date_listed       street       borough  \n",
       "0      0    4.0    3.0   agency  2023-06-18      Witolda  Stare miasto  \n",
       "1      0    0.0    4.0   agency  2023-02-16       Bartla   Śródmieście  \n",
       "2      0    4.0    3.0   agency  2022-01-24     Pomorska  Stare miasto  \n",
       "3      0   47.0    2.0   agency  2022-05-26  Gwiaździsta        Krzyki  \n",
       "4      0    1.0    4.0   agency  2023-03-17   Racławicka        Krzyki  "
      ]
     },
     "execution_count": 3,
     "metadata": {},
     "output_type": "execute_result"
    }
   ],
   "source": [
    "df1 = pd.read_csv('city_rentals.csv')\n",
    "df1.head()"
   ]
  },
  {
   "cell_type": "code",
   "execution_count": 4,
   "id": "dbaa23f0-a58f-4c9b-8241-0bbd80a20041",
   "metadata": {},
   "outputs": [],
   "source": [
    "df1['price_per_sqr'] = df1['price']/df1['size']"
   ]
  },
  {
   "cell_type": "code",
   "execution_count": 5,
   "id": "9a3f3fdb-0377-467b-9e15-11c4235586e2",
   "metadata": {},
   "outputs": [
    {
     "data": {
      "text/html": [
       "<div>\n",
       "<style scoped>\n",
       "    .dataframe tbody tr th:only-of-type {\n",
       "        vertical-align: middle;\n",
       "    }\n",
       "\n",
       "    .dataframe tbody tr th {\n",
       "        vertical-align: top;\n",
       "    }\n",
       "\n",
       "    .dataframe thead th {\n",
       "        text-align: right;\n",
       "    }\n",
       "</style>\n",
       "<table border=\"1\" class=\"dataframe\">\n",
       "  <thead>\n",
       "    <tr style=\"text-align: right;\">\n",
       "      <th></th>\n",
       "      <th>price</th>\n",
       "      <th>size</th>\n",
       "      <th>balcony</th>\n",
       "      <th>juliet_balcony</th>\n",
       "      <th>basement</th>\n",
       "      <th>terrace</th>\n",
       "      <th>loggia</th>\n",
       "      <th>yard</th>\n",
       "      <th>floor</th>\n",
       "      <th>rooms</th>\n",
       "      <th>price_per_sqr</th>\n",
       "    </tr>\n",
       "  </thead>\n",
       "  <tbody>\n",
       "    <tr>\n",
       "      <th>price</th>\n",
       "      <td>1.000000</td>\n",
       "      <td>0.701192</td>\n",
       "      <td>-0.048033</td>\n",
       "      <td>-0.025839</td>\n",
       "      <td>0.015675</td>\n",
       "      <td>0.307410</td>\n",
       "      <td>0.007452</td>\n",
       "      <td>0.037664</td>\n",
       "      <td>0.160965</td>\n",
       "      <td>0.579095</td>\n",
       "      <td>0.393234</td>\n",
       "    </tr>\n",
       "    <tr>\n",
       "      <th>size</th>\n",
       "      <td>0.701192</td>\n",
       "      <td>1.000000</td>\n",
       "      <td>-0.015059</td>\n",
       "      <td>-0.029218</td>\n",
       "      <td>0.082159</td>\n",
       "      <td>0.237894</td>\n",
       "      <td>-0.002142</td>\n",
       "      <td>0.033974</td>\n",
       "      <td>0.036092</td>\n",
       "      <td>0.777964</td>\n",
       "      <td>-0.252835</td>\n",
       "    </tr>\n",
       "    <tr>\n",
       "      <th>balcony</th>\n",
       "      <td>-0.048033</td>\n",
       "      <td>-0.015059</td>\n",
       "      <td>1.000000</td>\n",
       "      <td>-0.072025</td>\n",
       "      <td>0.033745</td>\n",
       "      <td>-0.324696</td>\n",
       "      <td>-0.163712</td>\n",
       "      <td>-0.074602</td>\n",
       "      <td>0.007261</td>\n",
       "      <td>0.067501</td>\n",
       "      <td>-0.081379</td>\n",
       "    </tr>\n",
       "    <tr>\n",
       "      <th>juliet_balcony</th>\n",
       "      <td>-0.025839</td>\n",
       "      <td>-0.029218</td>\n",
       "      <td>-0.072025</td>\n",
       "      <td>1.000000</td>\n",
       "      <td>0.052699</td>\n",
       "      <td>-0.019782</td>\n",
       "      <td>-0.009974</td>\n",
       "      <td>-0.013714</td>\n",
       "      <td>0.010975</td>\n",
       "      <td>-0.024469</td>\n",
       "      <td>0.004138</td>\n",
       "    </tr>\n",
       "    <tr>\n",
       "      <th>basement</th>\n",
       "      <td>0.015675</td>\n",
       "      <td>0.082159</td>\n",
       "      <td>0.033745</td>\n",
       "      <td>0.052699</td>\n",
       "      <td>1.000000</td>\n",
       "      <td>-0.002810</td>\n",
       "      <td>0.022094</td>\n",
       "      <td>-0.006585</td>\n",
       "      <td>-0.008510</td>\n",
       "      <td>0.112944</td>\n",
       "      <td>-0.091818</td>\n",
       "    </tr>\n",
       "    <tr>\n",
       "      <th>terrace</th>\n",
       "      <td>0.307410</td>\n",
       "      <td>0.237894</td>\n",
       "      <td>-0.324696</td>\n",
       "      <td>-0.019782</td>\n",
       "      <td>-0.002810</td>\n",
       "      <td>1.000000</td>\n",
       "      <td>-0.044964</td>\n",
       "      <td>0.125463</td>\n",
       "      <td>-0.026040</td>\n",
       "      <td>0.175869</td>\n",
       "      <td>0.107545</td>\n",
       "    </tr>\n",
       "    <tr>\n",
       "      <th>loggia</th>\n",
       "      <td>0.007452</td>\n",
       "      <td>-0.002142</td>\n",
       "      <td>-0.163712</td>\n",
       "      <td>-0.009974</td>\n",
       "      <td>0.022094</td>\n",
       "      <td>-0.044964</td>\n",
       "      <td>1.000000</td>\n",
       "      <td>-0.014564</td>\n",
       "      <td>0.072479</td>\n",
       "      <td>0.013730</td>\n",
       "      <td>0.014940</td>\n",
       "    </tr>\n",
       "    <tr>\n",
       "      <th>yard</th>\n",
       "      <td>0.037664</td>\n",
       "      <td>0.033974</td>\n",
       "      <td>-0.074602</td>\n",
       "      <td>-0.013714</td>\n",
       "      <td>-0.006585</td>\n",
       "      <td>0.125463</td>\n",
       "      <td>-0.014564</td>\n",
       "      <td>1.000000</td>\n",
       "      <td>-0.175624</td>\n",
       "      <td>0.038503</td>\n",
       "      <td>-0.003570</td>\n",
       "    </tr>\n",
       "    <tr>\n",
       "      <th>floor</th>\n",
       "      <td>0.160965</td>\n",
       "      <td>0.036092</td>\n",
       "      <td>0.007261</td>\n",
       "      <td>0.010975</td>\n",
       "      <td>-0.008510</td>\n",
       "      <td>-0.026040</td>\n",
       "      <td>0.072479</td>\n",
       "      <td>-0.175624</td>\n",
       "      <td>1.000000</td>\n",
       "      <td>0.020098</td>\n",
       "      <td>0.151787</td>\n",
       "    </tr>\n",
       "    <tr>\n",
       "      <th>rooms</th>\n",
       "      <td>0.579095</td>\n",
       "      <td>0.777964</td>\n",
       "      <td>0.067501</td>\n",
       "      <td>-0.024469</td>\n",
       "      <td>0.112944</td>\n",
       "      <td>0.175869</td>\n",
       "      <td>0.013730</td>\n",
       "      <td>0.038503</td>\n",
       "      <td>0.020098</td>\n",
       "      <td>1.000000</td>\n",
       "      <td>-0.222459</td>\n",
       "    </tr>\n",
       "    <tr>\n",
       "      <th>price_per_sqr</th>\n",
       "      <td>0.393234</td>\n",
       "      <td>-0.252835</td>\n",
       "      <td>-0.081379</td>\n",
       "      <td>0.004138</td>\n",
       "      <td>-0.091818</td>\n",
       "      <td>0.107545</td>\n",
       "      <td>0.014940</td>\n",
       "      <td>-0.003570</td>\n",
       "      <td>0.151787</td>\n",
       "      <td>-0.222459</td>\n",
       "      <td>1.000000</td>\n",
       "    </tr>\n",
       "  </tbody>\n",
       "</table>\n",
       "</div>"
      ],
      "text/plain": [
       "                   price      size   balcony  juliet_balcony  basement  \\\n",
       "price           1.000000  0.701192 -0.048033       -0.025839  0.015675   \n",
       "size            0.701192  1.000000 -0.015059       -0.029218  0.082159   \n",
       "balcony        -0.048033 -0.015059  1.000000       -0.072025  0.033745   \n",
       "juliet_balcony -0.025839 -0.029218 -0.072025        1.000000  0.052699   \n",
       "basement        0.015675  0.082159  0.033745        0.052699  1.000000   \n",
       "terrace         0.307410  0.237894 -0.324696       -0.019782 -0.002810   \n",
       "loggia          0.007452 -0.002142 -0.163712       -0.009974  0.022094   \n",
       "yard            0.037664  0.033974 -0.074602       -0.013714 -0.006585   \n",
       "floor           0.160965  0.036092  0.007261        0.010975 -0.008510   \n",
       "rooms           0.579095  0.777964  0.067501       -0.024469  0.112944   \n",
       "price_per_sqr   0.393234 -0.252835 -0.081379        0.004138 -0.091818   \n",
       "\n",
       "                 terrace    loggia      yard     floor     rooms  \\\n",
       "price           0.307410  0.007452  0.037664  0.160965  0.579095   \n",
       "size            0.237894 -0.002142  0.033974  0.036092  0.777964   \n",
       "balcony        -0.324696 -0.163712 -0.074602  0.007261  0.067501   \n",
       "juliet_balcony -0.019782 -0.009974 -0.013714  0.010975 -0.024469   \n",
       "basement       -0.002810  0.022094 -0.006585 -0.008510  0.112944   \n",
       "terrace         1.000000 -0.044964  0.125463 -0.026040  0.175869   \n",
       "loggia         -0.044964  1.000000 -0.014564  0.072479  0.013730   \n",
       "yard            0.125463 -0.014564  1.000000 -0.175624  0.038503   \n",
       "floor          -0.026040  0.072479 -0.175624  1.000000  0.020098   \n",
       "rooms           0.175869  0.013730  0.038503  0.020098  1.000000   \n",
       "price_per_sqr   0.107545  0.014940 -0.003570  0.151787 -0.222459   \n",
       "\n",
       "                price_per_sqr  \n",
       "price                0.393234  \n",
       "size                -0.252835  \n",
       "balcony             -0.081379  \n",
       "juliet_balcony       0.004138  \n",
       "basement            -0.091818  \n",
       "terrace              0.107545  \n",
       "loggia               0.014940  \n",
       "yard                -0.003570  \n",
       "floor                0.151787  \n",
       "rooms               -0.222459  \n",
       "price_per_sqr        1.000000  "
      ]
     },
     "execution_count": 5,
     "metadata": {},
     "output_type": "execute_result"
    }
   ],
   "source": [
    "df1 = df1.drop(['attic'], axis='columns')\n",
    "df1.corr(method ='pearson', numeric_only=True )"
   ]
  },
  {
   "cell_type": "code",
   "execution_count": 6,
   "id": "03472ce2-dfef-4292-9d45-5098799b7530",
   "metadata": {},
   "outputs": [
    {
     "data": {
      "text/plain": [
       "<Axes: >"
      ]
     },
     "execution_count": 6,
     "metadata": {},
     "output_type": "execute_result"
    },
    {
     "data": {
      "image/png": "[encoded data removed]",
      "text/plain": [
       "<Figure size 1200x800 with 2 Axes>"
      ]
     },
     "metadata": {},
     "output_type": "display_data"
    }
   ],
   "source": [
    "plt.figure(figsize=(12,8))\n",
    "sns.heatmap(df1.corr(method ='pearson', numeric_only=True),\n",
    "            cmap = 'BrBG',\n",
    "            fmt = '.2f',\n",
    "            linewidths = 2,\n",
    "            annot = True)\n"
   ]
  },
  {
   "cell_type": "code",
   "execution_count": 7,
   "id": "9e80242d-0886-438b-8ed8-66a681280af5",
   "metadata": {},
   "outputs": [
    {
     "name": "stdout",
     "output_type": "stream",
     "text": [
      "<class 'pandas.core.frame.DataFrame'>\n",
      "RangeIndex: 6180 entries, 0 to 6179\n",
      "Data columns (total 15 columns):\n",
      " #   Column          Non-Null Count  Dtype  \n",
      "---  ------          --------------  -----  \n",
      " 0   price           6180 non-null   int64  \n",
      " 1   size            6180 non-null   float64\n",
      " 2   balcony         6180 non-null   int64  \n",
      " 3   juliet_balcony  6180 non-null   int64  \n",
      " 4   basement        6180 non-null   int64  \n",
      " 5   terrace         6180 non-null   int64  \n",
      " 6   loggia          6180 non-null   int64  \n",
      " 7   yard            6180 non-null   int64  \n",
      " 8   floor           6073 non-null   float64\n",
      " 9   rooms           6163 non-null   float64\n",
      " 10  offering        6180 non-null   object \n",
      " 11  date_listed     6180 non-null   object \n",
      " 12  street          5625 non-null   object \n",
      " 13  borough         6101 non-null   object \n",
      " 14  price_per_sqr   6180 non-null   float64\n",
      "dtypes: float64(4), int64(7), object(4)\n",
      "memory usage: 724.3+ KB\n"
     ]
    }
   ],
   "source": [
    "df1.info()"
   ]
  },
  {
   "cell_type": "code",
   "execution_count": 8,
   "id": "0e2a2526-5657-430d-81dc-e51c8c01bd2f",
   "metadata": {},
   "outputs": [
    {
     "data": {
      "text/html": [
       "<div>\n",
       "<style scoped>\n",
       "    .dataframe tbody tr th:only-of-type {\n",
       "        vertical-align: middle;\n",
       "    }\n",
       "\n",
       "    .dataframe tbody tr th {\n",
       "        vertical-align: top;\n",
       "    }\n",
       "\n",
       "    .dataframe thead th {\n",
       "        text-align: right;\n",
       "    }\n",
       "</style>\n",
       "<table border=\"1\" class=\"dataframe\">\n",
       "  <thead>\n",
       "    <tr style=\"text-align: right;\">\n",
       "      <th></th>\n",
       "      <th>price</th>\n",
       "      <th>size</th>\n",
       "      <th>terrace</th>\n",
       "      <th>floor</th>\n",
       "      <th>rooms</th>\n",
       "      <th>street</th>\n",
       "      <th>price_per_sqr</th>\n",
       "    </tr>\n",
       "  </thead>\n",
       "  <tbody>\n",
       "    <tr>\n",
       "      <th>0</th>\n",
       "      <td>19900</td>\n",
       "      <td>118.0</td>\n",
       "      <td>1</td>\n",
       "      <td>4.0</td>\n",
       "      <td>3.0</td>\n",
       "      <td>Witolda</td>\n",
       "      <td>168.644068</td>\n",
       "    </tr>\n",
       "    <tr>\n",
       "      <th>1</th>\n",
       "      <td>19000</td>\n",
       "      <td>120.0</td>\n",
       "      <td>1</td>\n",
       "      <td>0.0</td>\n",
       "      <td>4.0</td>\n",
       "      <td>Bartla</td>\n",
       "      <td>158.333333</td>\n",
       "    </tr>\n",
       "    <tr>\n",
       "      <th>2</th>\n",
       "      <td>18000</td>\n",
       "      <td>113.0</td>\n",
       "      <td>0</td>\n",
       "      <td>4.0</td>\n",
       "      <td>3.0</td>\n",
       "      <td>Pomorska</td>\n",
       "      <td>159.292035</td>\n",
       "    </tr>\n",
       "    <tr>\n",
       "      <th>3</th>\n",
       "      <td>16000</td>\n",
       "      <td>110.0</td>\n",
       "      <td>0</td>\n",
       "      <td>47.0</td>\n",
       "      <td>2.0</td>\n",
       "      <td>Gwiaździsta</td>\n",
       "      <td>145.454545</td>\n",
       "    </tr>\n",
       "    <tr>\n",
       "      <th>4</th>\n",
       "      <td>16000</td>\n",
       "      <td>120.0</td>\n",
       "      <td>1</td>\n",
       "      <td>1.0</td>\n",
       "      <td>4.0</td>\n",
       "      <td>Racławicka</td>\n",
       "      <td>133.333333</td>\n",
       "    </tr>\n",
       "  </tbody>\n",
       "</table>\n",
       "</div>"
      ],
      "text/plain": [
       "   price   size  terrace  floor  rooms       street  price_per_sqr\n",
       "0  19900  118.0        1    4.0    3.0      Witolda     168.644068\n",
       "1  19000  120.0        1    0.0    4.0       Bartla     158.333333\n",
       "2  18000  113.0        0    4.0    3.0     Pomorska     159.292035\n",
       "3  16000  110.0        0   47.0    2.0  Gwiaździsta     145.454545\n",
       "4  16000  120.0        1    1.0    4.0   Racławicka     133.333333"
      ]
     },
     "execution_count": 8,
     "metadata": {},
     "output_type": "execute_result"
    }
   ],
   "source": [
    "df2 = df1.drop(['balcony', 'juliet_balcony', 'basement', 'loggia', 'yard', 'offering', 'borough','date_listed'], axis='columns')\n",
    "df2.head()"
   ]
  },
  {
   "cell_type": "code",
   "execution_count": 9,
   "id": "5fcf676c-189b-4331-9213-fcd9e7bbe1ef",
   "metadata": {},
   "outputs": [
    {
     "data": {
      "text/plain": [
       "price            0.000000\n",
       "size             0.000000\n",
       "terrace          0.000000\n",
       "floor            1.761897\n",
       "rooms            0.275840\n",
       "street           9.866667\n",
       "price_per_sqr    0.000000\n",
       "dtype: float64"
      ]
     },
     "execution_count": 9,
     "metadata": {},
     "output_type": "execute_result"
    }
   ],
   "source": [
    "df2.isnull().sum()/df2.count()*100"
   ]
  },
  {
   "cell_type": "code",
   "execution_count": 10,
   "id": "c18f7997-60ed-43e8-8dc6-edce2f171ec5",
   "metadata": {},
   "outputs": [
    {
     "data": {
      "text/plain": [
       "price            0\n",
       "size             0\n",
       "terrace          0\n",
       "floor            0\n",
       "rooms            0\n",
       "street           0\n",
       "price_per_sqr    0\n",
       "dtype: int64"
      ]
     },
     "execution_count": 10,
     "metadata": {},
     "output_type": "execute_result"
    }
   ],
   "source": [
    "df3 = df2.dropna()\n",
    "df3.isnull().sum()"
   ]
  },
  {
   "cell_type": "code",
   "execution_count": 11,
   "id": "3a469b98-687d-420f-b689-7eb31451e7f6",
   "metadata": {},
   "outputs": [
    {
     "data": {
      "text/plain": [
       "795"
      ]
     },
     "execution_count": 11,
     "metadata": {},
     "output_type": "execute_result"
    }
   ],
   "source": [
    "len(df3['street'].unique())"
   ]
  },
  {
   "cell_type": "code",
   "execution_count": 12,
   "id": "23ced8f8-db24-4457-be97-69e0c6b3e111",
   "metadata": {},
   "outputs": [
    {
     "data": {
      "text/plain": [
       "array([3., 4., 2., 5., 6., 1., 7.])"
      ]
     },
     "execution_count": 12,
     "metadata": {},
     "output_type": "execute_result"
    }
   ],
   "source": [
    "df3['rooms'].unique()"
   ]
  },
  {
   "cell_type": "code",
   "execution_count": 13,
   "id": "261368a7-fe4a-4584-bcb3-89b1cd279e07",
   "metadata": {},
   "outputs": [
    {
     "name": "stderr",
     "output_type": "stream",
     "text": [
      "/tmp/ipykernel_8545/364772890.py:1: SettingWithCopyWarning: \n",
      "A value is trying to be set on a copy of a slice from a DataFrame.\n",
      "Try using .loc[row_indexer,col_indexer] = value instead\n",
      "\n",
      "See the caveats in the documentation: https://pandas.pydata.org/pandas-docs/stable/user_guide/indexing.html#returning-a-view-versus-a-copy\n",
      "  df3['street'] = df3['street'].apply(lambda x: x.strip())\n"
     ]
    },
    {
     "data": {
      "text/plain": [
       "street\n",
       "Legnicka           103\n",
       "Witolda            101\n",
       "Kościuszki          93\n",
       "Walońska            92\n",
       "Grabiszyńska        71\n",
       "                  ... \n",
       "Hlonda               1\n",
       "Cinciały             1\n",
       "Spadochroniarzy      1\n",
       "Marcinkowskiego      1\n",
       "Rakietowa            1\n",
       "Name: street, Length: 795, dtype: int64"
      ]
     },
     "execution_count": 13,
     "metadata": {},
     "output_type": "execute_result"
    }
   ],
   "source": [
    "df3['street'] = df3['street'].apply(lambda x: x.strip())\n",
    "df_street = df3.groupby('street')['street'].agg('count').sort_values(ascending=False)\n",
    "df_street"
   ]
  },
  {
   "cell_type": "code",
   "execution_count": 14,
   "id": "64e7ff55-11cd-4f3c-8b27-63860fea24c0",
   "metadata": {},
   "outputs": [
    {
     "data": {
      "text/plain": [
       "647"
      ]
     },
     "execution_count": 14,
     "metadata": {},
     "output_type": "execute_result"
    }
   ],
   "source": [
    "len(df_street[df_street< 10])"
   ]
  },
  {
   "cell_type": "code",
   "execution_count": 15,
   "id": "e445b43c-44eb-45a7-8125-2f145dba8268",
   "metadata": {},
   "outputs": [
    {
     "data": {
      "text/plain": [
       "street\n",
       "Hubska                9\n",
       "Na ostatnim groszu    9\n",
       "Jaworska              9\n",
       "Biskupia              9\n",
       "Zielna                9\n",
       "                     ..\n",
       "Hlonda                1\n",
       "Cinciały              1\n",
       "Spadochroniarzy       1\n",
       "Marcinkowskiego       1\n",
       "Rakietowa             1\n",
       "Name: street, Length: 647, dtype: int64"
      ]
     },
     "execution_count": 15,
     "metadata": {},
     "output_type": "execute_result"
    }
   ],
   "source": [
    "df_other = df_street[df_street< 10]\n",
    "df_other"
   ]
  },
  {
   "cell_type": "code",
   "execution_count": 16,
   "id": "5a868bd2-c085-4b61-805b-2b9aa2a4de69",
   "metadata": {},
   "outputs": [
    {
     "name": "stderr",
     "output_type": "stream",
     "text": [
      "/tmp/ipykernel_8545/1286746303.py:1: SettingWithCopyWarning: \n",
      "A value is trying to be set on a copy of a slice from a DataFrame.\n",
      "Try using .loc[row_indexer,col_indexer] = value instead\n",
      "\n",
      "See the caveats in the documentation: https://pandas.pydata.org/pandas-docs/stable/user_guide/indexing.html#returning-a-view-versus-a-copy\n",
      "  df3.street = df3.street.apply(lambda x : 'other' if x in df_other else x)\n"
     ]
    },
    {
     "data": {
      "text/plain": [
       "149"
      ]
     },
     "execution_count": 16,
     "metadata": {},
     "output_type": "execute_result"
    }
   ],
   "source": [
    "df3.street = df3.street.apply(lambda x : 'other' if x in df_other else x)\n",
    "len(df3.street.unique())"
   ]
  },
  {
   "cell_type": "code",
   "execution_count": 17,
   "id": "847a292b-79c8-454f-8cfe-7cad24e49f26",
   "metadata": {},
   "outputs": [
    {
     "data": {
      "text/html": [
       "<div>\n",
       "<style scoped>\n",
       "    .dataframe tbody tr th:only-of-type {\n",
       "        vertical-align: middle;\n",
       "    }\n",
       "\n",
       "    .dataframe tbody tr th {\n",
       "        vertical-align: top;\n",
       "    }\n",
       "\n",
       "    .dataframe thead th {\n",
       "        text-align: right;\n",
       "    }\n",
       "</style>\n",
       "<table border=\"1\" class=\"dataframe\">\n",
       "  <thead>\n",
       "    <tr style=\"text-align: right;\">\n",
       "      <th></th>\n",
       "      <th>price</th>\n",
       "      <th>size</th>\n",
       "      <th>terrace</th>\n",
       "      <th>floor</th>\n",
       "      <th>rooms</th>\n",
       "      <th>street</th>\n",
       "      <th>price_per_sqr</th>\n",
       "    </tr>\n",
       "  </thead>\n",
       "  <tbody>\n",
       "    <tr>\n",
       "      <th>0</th>\n",
       "      <td>19900</td>\n",
       "      <td>118.0</td>\n",
       "      <td>1</td>\n",
       "      <td>4.0</td>\n",
       "      <td>3.0</td>\n",
       "      <td>Witolda</td>\n",
       "      <td>168.644068</td>\n",
       "    </tr>\n",
       "    <tr>\n",
       "      <th>1</th>\n",
       "      <td>19000</td>\n",
       "      <td>120.0</td>\n",
       "      <td>1</td>\n",
       "      <td>0.0</td>\n",
       "      <td>4.0</td>\n",
       "      <td>other</td>\n",
       "      <td>158.333333</td>\n",
       "    </tr>\n",
       "    <tr>\n",
       "      <th>2</th>\n",
       "      <td>18000</td>\n",
       "      <td>113.0</td>\n",
       "      <td>0</td>\n",
       "      <td>4.0</td>\n",
       "      <td>3.0</td>\n",
       "      <td>other</td>\n",
       "      <td>159.292035</td>\n",
       "    </tr>\n",
       "    <tr>\n",
       "      <th>3</th>\n",
       "      <td>16000</td>\n",
       "      <td>110.0</td>\n",
       "      <td>0</td>\n",
       "      <td>47.0</td>\n",
       "      <td>2.0</td>\n",
       "      <td>Gwiaździsta</td>\n",
       "      <td>145.454545</td>\n",
       "    </tr>\n",
       "    <tr>\n",
       "      <th>4</th>\n",
       "      <td>16000</td>\n",
       "      <td>120.0</td>\n",
       "      <td>1</td>\n",
       "      <td>1.0</td>\n",
       "      <td>4.0</td>\n",
       "      <td>Racławicka</td>\n",
       "      <td>133.333333</td>\n",
       "    </tr>\n",
       "  </tbody>\n",
       "</table>\n",
       "</div>"
      ],
      "text/plain": [
       "   price   size  terrace  floor  rooms       street  price_per_sqr\n",
       "0  19900  118.0        1    4.0    3.0      Witolda     168.644068\n",
       "1  19000  120.0        1    0.0    4.0        other     158.333333\n",
       "2  18000  113.0        0    4.0    3.0        other     159.292035\n",
       "3  16000  110.0        0   47.0    2.0  Gwiaździsta     145.454545\n",
       "4  16000  120.0        1    1.0    4.0   Racławicka     133.333333"
      ]
     },
     "execution_count": 17,
     "metadata": {},
     "output_type": "execute_result"
    }
   ],
   "source": [
    "df3.head()"
   ]
  },
  {
   "cell_type": "code",
   "execution_count": 18,
   "id": "a1aa0469-d500-4727-8d23-9360f8c352e9",
   "metadata": {},
   "outputs": [
    {
     "data": {
      "text/plain": [
       "14      450.0\n",
       "12      450.0\n",
       "13      450.0\n",
       "6157    210.0\n",
       "241     180.0\n",
       "        ...  \n",
       "6161     12.0\n",
       "6159     10.0\n",
       "6170     10.0\n",
       "6172     10.0\n",
       "6158      6.0\n",
       "Name: size, Length: 5528, dtype: float64"
      ]
     },
     "execution_count": 18,
     "metadata": {},
     "output_type": "execute_result"
    }
   ],
   "source": [
    "df3['size'].sort_values(ascending=False)"
   ]
  },
  {
   "cell_type": "code",
   "execution_count": 19,
   "id": "bbb956b3-10e2-4711-a6aa-b97284695ddc",
   "metadata": {},
   "outputs": [
    {
     "data": {
      "text/plain": [
       "135     207.317073\n",
       "136     183.744055\n",
       "508     175.000000\n",
       "0       168.644068\n",
       "6158    166.666667\n",
       "           ...    \n",
       "6174     10.000000\n",
       "6177      7.954545\n",
       "6175      6.875000\n",
       "6179      6.250000\n",
       "6157      5.238095\n",
       "Name: price_per_sqr, Length: 5528, dtype: float64"
      ]
     },
     "execution_count": 19,
     "metadata": {},
     "output_type": "execute_result"
    }
   ],
   "source": [
    "df3['price_per_sqr'].sort_values(ascending=False)"
   ]
  },
  {
   "cell_type": "code",
   "execution_count": 20,
   "id": "0ca4b58d-f805-442f-8d10-e7498e05592a",
   "metadata": {},
   "outputs": [
    {
     "data": {
      "text/html": [
       "<div>\n",
       "<style scoped>\n",
       "    .dataframe tbody tr th:only-of-type {\n",
       "        vertical-align: middle;\n",
       "    }\n",
       "\n",
       "    .dataframe tbody tr th {\n",
       "        vertical-align: top;\n",
       "    }\n",
       "\n",
       "    .dataframe thead th {\n",
       "        text-align: right;\n",
       "    }\n",
       "</style>\n",
       "<table border=\"1\" class=\"dataframe\">\n",
       "  <thead>\n",
       "    <tr style=\"text-align: right;\">\n",
       "      <th></th>\n",
       "      <th>price</th>\n",
       "      <th>size</th>\n",
       "      <th>terrace</th>\n",
       "      <th>floor</th>\n",
       "      <th>rooms</th>\n",
       "      <th>price_per_sqr</th>\n",
       "    </tr>\n",
       "  </thead>\n",
       "  <tbody>\n",
       "    <tr>\n",
       "      <th>count</th>\n",
       "      <td>5528.000000</td>\n",
       "      <td>5528.000000</td>\n",
       "      <td>5528.000000</td>\n",
       "      <td>5528.000000</td>\n",
       "      <td>5528.000000</td>\n",
       "      <td>5528.000000</td>\n",
       "    </tr>\n",
       "    <tr>\n",
       "      <th>mean</th>\n",
       "      <td>3180.086469</td>\n",
       "      <td>51.856147</td>\n",
       "      <td>0.078509</td>\n",
       "      <td>2.826700</td>\n",
       "      <td>2.223408</td>\n",
       "      <td>63.281419</td>\n",
       "    </tr>\n",
       "    <tr>\n",
       "      <th>std</th>\n",
       "      <td>1587.688219</td>\n",
       "      <td>22.159624</td>\n",
       "      <td>0.268996</td>\n",
       "      <td>2.765158</td>\n",
       "      <td>0.808751</td>\n",
       "      <td>18.098324</td>\n",
       "    </tr>\n",
       "    <tr>\n",
       "      <th>min</th>\n",
       "      <td>250.000000</td>\n",
       "      <td>6.000000</td>\n",
       "      <td>0.000000</td>\n",
       "      <td>-1.000000</td>\n",
       "      <td>1.000000</td>\n",
       "      <td>5.238095</td>\n",
       "    </tr>\n",
       "    <tr>\n",
       "      <th>25%</th>\n",
       "      <td>2400.000000</td>\n",
       "      <td>39.100000</td>\n",
       "      <td>0.000000</td>\n",
       "      <td>1.000000</td>\n",
       "      <td>2.000000</td>\n",
       "      <td>51.020408</td>\n",
       "    </tr>\n",
       "    <tr>\n",
       "      <th>50%</th>\n",
       "      <td>2800.000000</td>\n",
       "      <td>49.000000</td>\n",
       "      <td>0.000000</td>\n",
       "      <td>2.000000</td>\n",
       "      <td>2.000000</td>\n",
       "      <td>60.416667</td>\n",
       "    </tr>\n",
       "    <tr>\n",
       "      <th>75%</th>\n",
       "      <td>3500.000000</td>\n",
       "      <td>60.000000</td>\n",
       "      <td>0.000000</td>\n",
       "      <td>4.000000</td>\n",
       "      <td>3.000000</td>\n",
       "      <td>72.916667</td>\n",
       "    </tr>\n",
       "    <tr>\n",
       "      <th>max</th>\n",
       "      <td>19900.000000</td>\n",
       "      <td>450.000000</td>\n",
       "      <td>1.000000</td>\n",
       "      <td>47.000000</td>\n",
       "      <td>7.000000</td>\n",
       "      <td>207.317073</td>\n",
       "    </tr>\n",
       "  </tbody>\n",
       "</table>\n",
       "</div>"
      ],
      "text/plain": [
       "              price         size      terrace        floor        rooms  \\\n",
       "count   5528.000000  5528.000000  5528.000000  5528.000000  5528.000000   \n",
       "mean    3180.086469    51.856147     0.078509     2.826700     2.223408   \n",
       "std     1587.688219    22.159624     0.268996     2.765158     0.808751   \n",
       "min      250.000000     6.000000     0.000000    -1.000000     1.000000   \n",
       "25%     2400.000000    39.100000     0.000000     1.000000     2.000000   \n",
       "50%     2800.000000    49.000000     0.000000     2.000000     2.000000   \n",
       "75%     3500.000000    60.000000     0.000000     4.000000     3.000000   \n",
       "max    19900.000000   450.000000     1.000000    47.000000     7.000000   \n",
       "\n",
       "       price_per_sqr  \n",
       "count    5528.000000  \n",
       "mean       63.281419  \n",
       "std        18.098324  \n",
       "min         5.238095  \n",
       "25%        51.020408  \n",
       "50%        60.416667  \n",
       "75%        72.916667  \n",
       "max       207.317073  "
      ]
     },
     "execution_count": 20,
     "metadata": {},
     "output_type": "execute_result"
    }
   ],
   "source": [
    "df3.describe()"
   ]
  },
  {
   "cell_type": "code",
   "execution_count": 21,
   "id": "fe27e56e-2218-4043-bf95-1553ae32331d",
   "metadata": {},
   "outputs": [
    {
     "name": "stdout",
     "output_type": "stream",
     "text": [
      "<class 'pandas.core.frame.DataFrame'>\n",
      "Int64Index: 5528 entries, 0 to 6179\n",
      "Data columns (total 7 columns):\n",
      " #   Column         Non-Null Count  Dtype  \n",
      "---  ------         --------------  -----  \n",
      " 0   price          5528 non-null   int64  \n",
      " 1   size           5528 non-null   float64\n",
      " 2   terrace        5528 non-null   int64  \n",
      " 3   floor          5528 non-null   float64\n",
      " 4   rooms          5528 non-null   float64\n",
      " 5   street         5528 non-null   object \n",
      " 6   price_per_sqr  5528 non-null   float64\n",
      "dtypes: float64(4), int64(2), object(1)\n",
      "memory usage: 345.5+ KB\n"
     ]
    }
   ],
   "source": [
    "df3.info()"
   ]
  },
  {
   "cell_type": "code",
   "execution_count": 22,
   "id": "3c7f9fed-20d2-4259-a30b-1f290db19158",
   "metadata": {},
   "outputs": [
    {
     "data": {
      "text/plain": [
       "<Axes: xlabel='price_per_sqr', ylabel='Count'>"
      ]
     },
     "execution_count": 22,
     "metadata": {},
     "output_type": "execute_result"
    },
    {
     "data": {
      "image/png": "[encoded data removed]",
      "text/plain": [
       "<Figure size 640x480 with 1 Axes>"
      ]
     },
     "metadata": {},
     "output_type": "display_data"
    }
   ],
   "source": [
    "sns.histplot(df3['price_per_sqr'], kde = True)"
   ]
  },
  {
   "cell_type": "code",
   "execution_count": 23,
   "id": "aba7c78e-88a4-4aab-9fd5-5b2f3db248e7",
   "metadata": {},
   "outputs": [],
   "source": [
    "def std_outliers(df):\n",
    "    df_out = pd.DataFrame()\n",
    "    for key, subdf in df.groupby('street'):\n",
    "        m = np.mean(subdf.price_per_sqr)\n",
    "        st = np.std(subdf.price_per_sqr)\n",
    "        reduced_df = subdf[(subdf.price_per_sqr > (m-st)) & (subdf.price_per_sqr <= (m + st))]\n",
    "        df_out = pd.concat([df_out, reduced_df], ignore_index = True)\n",
    "    return df_out\n",
    "\n",
    "df4 = std_outliers(df3)"
   ]
  },
  {
   "cell_type": "code",
   "execution_count": 24,
   "id": "fedfea66-7e08-4585-a5d8-77bfa9382dc4",
   "metadata": {},
   "outputs": [
    {
     "data": {
      "text/html": [
       "<div>\n",
       "<style scoped>\n",
       "    .dataframe tbody tr th:only-of-type {\n",
       "        vertical-align: middle;\n",
       "    }\n",
       "\n",
       "    .dataframe tbody tr th {\n",
       "        vertical-align: top;\n",
       "    }\n",
       "\n",
       "    .dataframe thead th {\n",
       "        text-align: right;\n",
       "    }\n",
       "</style>\n",
       "<table border=\"1\" class=\"dataframe\">\n",
       "  <thead>\n",
       "    <tr style=\"text-align: right;\">\n",
       "      <th></th>\n",
       "      <th>price</th>\n",
       "      <th>size</th>\n",
       "      <th>terrace</th>\n",
       "      <th>floor</th>\n",
       "      <th>rooms</th>\n",
       "      <th>price_per_sqr</th>\n",
       "    </tr>\n",
       "  </thead>\n",
       "  <tbody>\n",
       "    <tr>\n",
       "      <th>count</th>\n",
       "      <td>3943.000000</td>\n",
       "      <td>3943.000000</td>\n",
       "      <td>3943.000000</td>\n",
       "      <td>3943.000000</td>\n",
       "      <td>3943.000000</td>\n",
       "      <td>3943.000000</td>\n",
       "    </tr>\n",
       "    <tr>\n",
       "      <th>mean</th>\n",
       "      <td>3089.565813</td>\n",
       "      <td>50.975184</td>\n",
       "      <td>0.073548</td>\n",
       "      <td>2.727365</td>\n",
       "      <td>2.217854</td>\n",
       "      <td>61.602534</td>\n",
       "    </tr>\n",
       "    <tr>\n",
       "      <th>std</th>\n",
       "      <td>1151.466309</td>\n",
       "      <td>17.441381</td>\n",
       "      <td>0.261067</td>\n",
       "      <td>2.524960</td>\n",
       "      <td>0.751096</td>\n",
       "      <td>12.005815</td>\n",
       "    </tr>\n",
       "    <tr>\n",
       "      <th>min</th>\n",
       "      <td>720.000000</td>\n",
       "      <td>10.000000</td>\n",
       "      <td>0.000000</td>\n",
       "      <td>-1.000000</td>\n",
       "      <td>1.000000</td>\n",
       "      <td>25.696329</td>\n",
       "    </tr>\n",
       "    <tr>\n",
       "      <th>25%</th>\n",
       "      <td>2499.000000</td>\n",
       "      <td>40.000000</td>\n",
       "      <td>0.000000</td>\n",
       "      <td>1.000000</td>\n",
       "      <td>2.000000</td>\n",
       "      <td>52.843666</td>\n",
       "    </tr>\n",
       "    <tr>\n",
       "      <th>50%</th>\n",
       "      <td>2800.000000</td>\n",
       "      <td>48.500000</td>\n",
       "      <td>0.000000</td>\n",
       "      <td>2.000000</td>\n",
       "      <td>2.000000</td>\n",
       "      <td>60.000000</td>\n",
       "    </tr>\n",
       "    <tr>\n",
       "      <th>75%</th>\n",
       "      <td>3499.500000</td>\n",
       "      <td>58.000000</td>\n",
       "      <td>0.000000</td>\n",
       "      <td>4.000000</td>\n",
       "      <td>3.000000</td>\n",
       "      <td>68.619043</td>\n",
       "    </tr>\n",
       "    <tr>\n",
       "      <th>max</th>\n",
       "      <td>15999.000000</td>\n",
       "      <td>163.000000</td>\n",
       "      <td>1.000000</td>\n",
       "      <td>44.000000</td>\n",
       "      <td>6.000000</td>\n",
       "      <td>120.192308</td>\n",
       "    </tr>\n",
       "  </tbody>\n",
       "</table>\n",
       "</div>"
      ],
      "text/plain": [
       "              price         size      terrace        floor        rooms  \\\n",
       "count   3943.000000  3943.000000  3943.000000  3943.000000  3943.000000   \n",
       "mean    3089.565813    50.975184     0.073548     2.727365     2.217854   \n",
       "std     1151.466309    17.441381     0.261067     2.524960     0.751096   \n",
       "min      720.000000    10.000000     0.000000    -1.000000     1.000000   \n",
       "25%     2499.000000    40.000000     0.000000     1.000000     2.000000   \n",
       "50%     2800.000000    48.500000     0.000000     2.000000     2.000000   \n",
       "75%     3499.500000    58.000000     0.000000     4.000000     3.000000   \n",
       "max    15999.000000   163.000000     1.000000    44.000000     6.000000   \n",
       "\n",
       "       price_per_sqr  \n",
       "count    3943.000000  \n",
       "mean       61.602534  \n",
       "std        12.005815  \n",
       "min        25.696329  \n",
       "25%        52.843666  \n",
       "50%        60.000000  \n",
       "75%        68.619043  \n",
       "max       120.192308  "
      ]
     },
     "execution_count": 24,
     "metadata": {},
     "output_type": "execute_result"
    }
   ],
   "source": [
    "df4.describe()"
   ]
  },
  {
   "cell_type": "code",
   "execution_count": 25,
   "id": "bbfebe24-c0d7-438d-9475-3562eff0c1a8",
   "metadata": {},
   "outputs": [
    {
     "data": {
      "text/plain": [
       "<Axes: xlabel='price_per_sqr', ylabel='Count'>"
      ]
     },
     "execution_count": 25,
     "metadata": {},
     "output_type": "execute_result"
    },
    {
     "data": {
      "image/png": "[encoded data removed]",
      "text/plain": [
       "<Figure size 640x480 with 1 Axes>"
      ]
     },
     "metadata": {},
     "output_type": "display_data"
    }
   ],
   "source": [
    "sns.histplot(df4['price_per_sqr'], kde = True)"
   ]
  },
  {
   "cell_type": "code",
   "execution_count": 26,
   "id": "f2e6e04b-ad47-4673-bc54-544823cb0998",
   "metadata": {},
   "outputs": [
    {
     "data": {
      "text/plain": [
       "<Axes: xlabel='rooms', ylabel='price'>"
      ]
     },
     "execution_count": 26,
     "metadata": {},
     "output_type": "execute_result"
    },
    {
     "data": {
      "image/png": "[encoded data removed]",
      "text/plain": [
       "<Figure size 640x480 with 1 Axes>"
      ]
     },
     "metadata": {},
     "output_type": "display_data"
    }
   ],
   "source": [
    "sns.scatterplot(data = df4, x = 'rooms', y= 'price')"
   ]
  },
  {
   "cell_type": "code",
   "execution_count": 27,
   "id": "07ad9622-cd87-419b-a118-b46089059bbf",
   "metadata": {},
   "outputs": [
    {
     "data": {
      "text/plain": [
       "<Axes: xlabel='size', ylabel='price'>"
      ]
     },
     "execution_count": 27,
     "metadata": {},
     "output_type": "execute_result"
    },
    {
     "data": {
      "image/png": "[encoded data removed]",
      "text/plain": [
       "<Figure size 640x480 with 1 Axes>"
      ]
     },
     "metadata": {},
     "output_type": "display_data"
    }
   ],
   "source": [
    "sns.scatterplot(data = df4, x = 'size', y= 'price')"
   ]
  },
  {
   "cell_type": "code",
   "execution_count": 28,
   "id": "2d49f840-298d-4521-a2a9-e17e01cb5736",
   "metadata": {},
   "outputs": [
    {
     "data": {
      "text/html": [
       "<div>\n",
       "<style scoped>\n",
       "    .dataframe tbody tr th:only-of-type {\n",
       "        vertical-align: middle;\n",
       "    }\n",
       "\n",
       "    .dataframe tbody tr th {\n",
       "        vertical-align: top;\n",
       "    }\n",
       "\n",
       "    .dataframe thead th {\n",
       "        text-align: right;\n",
       "    }\n",
       "</style>\n",
       "<table border=\"1\" class=\"dataframe\">\n",
       "  <thead>\n",
       "    <tr style=\"text-align: right;\">\n",
       "      <th></th>\n",
       "      <th>price</th>\n",
       "      <th>size</th>\n",
       "      <th>terrace</th>\n",
       "      <th>floor</th>\n",
       "      <th>rooms</th>\n",
       "      <th>street</th>\n",
       "    </tr>\n",
       "  </thead>\n",
       "  <tbody>\n",
       "    <tr>\n",
       "      <th>0</th>\n",
       "      <td>3500</td>\n",
       "      <td>57.2</td>\n",
       "      <td>0</td>\n",
       "      <td>1.0</td>\n",
       "      <td>3.0</td>\n",
       "      <td>Arbuzowa</td>\n",
       "    </tr>\n",
       "    <tr>\n",
       "      <th>1</th>\n",
       "      <td>2801</td>\n",
       "      <td>45.0</td>\n",
       "      <td>0</td>\n",
       "      <td>3.0</td>\n",
       "      <td>2.0</td>\n",
       "      <td>Arbuzowa</td>\n",
       "    </tr>\n",
       "    <tr>\n",
       "      <th>2</th>\n",
       "      <td>2800</td>\n",
       "      <td>45.0</td>\n",
       "      <td>0</td>\n",
       "      <td>3.0</td>\n",
       "      <td>2.0</td>\n",
       "      <td>Arbuzowa</td>\n",
       "    </tr>\n",
       "  </tbody>\n",
       "</table>\n",
       "</div>"
      ],
      "text/plain": [
       "   price  size  terrace  floor  rooms    street\n",
       "0   3500  57.2        0    1.0    3.0  Arbuzowa\n",
       "1   2801  45.0        0    3.0    2.0  Arbuzowa\n",
       "2   2800  45.0        0    3.0    2.0  Arbuzowa"
      ]
     },
     "execution_count": 28,
     "metadata": {},
     "output_type": "execute_result"
    }
   ],
   "source": [
    "df5 = df4.drop(['price_per_sqr'],axis='columns')\n",
    "df5.head(3)"
   ]
  },
  {
   "cell_type": "code",
   "execution_count": 29,
   "id": "803f8f56-f9c8-4e32-a66c-52f3618ce379",
   "metadata": {},
   "outputs": [
    {
     "data": {
      "text/html": [
       "<div>\n",
       "<style scoped>\n",
       "    .dataframe tbody tr th:only-of-type {\n",
       "        vertical-align: middle;\n",
       "    }\n",
       "\n",
       "    .dataframe tbody tr th {\n",
       "        vertical-align: top;\n",
       "    }\n",
       "\n",
       "    .dataframe thead th {\n",
       "        text-align: right;\n",
       "    }\n",
       "</style>\n",
       "<table border=\"1\" class=\"dataframe\">\n",
       "  <thead>\n",
       "    <tr style=\"text-align: right;\">\n",
       "      <th></th>\n",
       "      <th>Arbuzowa</th>\n",
       "      <th>Awicenny</th>\n",
       "      <th>Bacciarellego</th>\n",
       "      <th>Bema</th>\n",
       "      <th>Białowieska</th>\n",
       "      <th>Borowska</th>\n",
       "      <th>Braniborska</th>\n",
       "      <th>Brzoskwiniowa</th>\n",
       "      <th>Buforowa</th>\n",
       "      <th>Buraczana</th>\n",
       "      <th>...</th>\n",
       "      <th>Zatorska</th>\n",
       "      <th>Zielińskiego</th>\n",
       "      <th>Zwycięska</th>\n",
       "      <th>Zyndrama z maszkowic</th>\n",
       "      <th>other</th>\n",
       "      <th>Łubinowa</th>\n",
       "      <th>Ślężna</th>\n",
       "      <th>Śrutowa</th>\n",
       "      <th>Żeromskiego</th>\n",
       "      <th>Żmudzka</th>\n",
       "    </tr>\n",
       "  </thead>\n",
       "  <tbody>\n",
       "    <tr>\n",
       "      <th>0</th>\n",
       "      <td>1.0</td>\n",
       "      <td>0.0</td>\n",
       "      <td>0.0</td>\n",
       "      <td>0.0</td>\n",
       "      <td>0.0</td>\n",
       "      <td>0.0</td>\n",
       "      <td>0.0</td>\n",
       "      <td>0.0</td>\n",
       "      <td>0.0</td>\n",
       "      <td>0.0</td>\n",
       "      <td>...</td>\n",
       "      <td>0.0</td>\n",
       "      <td>0.0</td>\n",
       "      <td>0.0</td>\n",
       "      <td>0.0</td>\n",
       "      <td>0.0</td>\n",
       "      <td>0.0</td>\n",
       "      <td>0.0</td>\n",
       "      <td>0.0</td>\n",
       "      <td>0.0</td>\n",
       "      <td>0.0</td>\n",
       "    </tr>\n",
       "    <tr>\n",
       "      <th>1</th>\n",
       "      <td>1.0</td>\n",
       "      <td>0.0</td>\n",
       "      <td>0.0</td>\n",
       "      <td>0.0</td>\n",
       "      <td>0.0</td>\n",
       "      <td>0.0</td>\n",
       "      <td>0.0</td>\n",
       "      <td>0.0</td>\n",
       "      <td>0.0</td>\n",
       "      <td>0.0</td>\n",
       "      <td>...</td>\n",
       "      <td>0.0</td>\n",
       "      <td>0.0</td>\n",
       "      <td>0.0</td>\n",
       "      <td>0.0</td>\n",
       "      <td>0.0</td>\n",
       "      <td>0.0</td>\n",
       "      <td>0.0</td>\n",
       "      <td>0.0</td>\n",
       "      <td>0.0</td>\n",
       "      <td>0.0</td>\n",
       "    </tr>\n",
       "    <tr>\n",
       "      <th>2</th>\n",
       "      <td>1.0</td>\n",
       "      <td>0.0</td>\n",
       "      <td>0.0</td>\n",
       "      <td>0.0</td>\n",
       "      <td>0.0</td>\n",
       "      <td>0.0</td>\n",
       "      <td>0.0</td>\n",
       "      <td>0.0</td>\n",
       "      <td>0.0</td>\n",
       "      <td>0.0</td>\n",
       "      <td>...</td>\n",
       "      <td>0.0</td>\n",
       "      <td>0.0</td>\n",
       "      <td>0.0</td>\n",
       "      <td>0.0</td>\n",
       "      <td>0.0</td>\n",
       "      <td>0.0</td>\n",
       "      <td>0.0</td>\n",
       "      <td>0.0</td>\n",
       "      <td>0.0</td>\n",
       "      <td>0.0</td>\n",
       "    </tr>\n",
       "  </tbody>\n",
       "</table>\n",
       "<p>3 rows × 149 columns</p>\n",
       "</div>"
      ],
      "text/plain": [
       "   Arbuzowa  Awicenny  Bacciarellego  Bema  Białowieska  Borowska  \\\n",
       "0       1.0       0.0            0.0   0.0          0.0       0.0   \n",
       "1       1.0       0.0            0.0   0.0          0.0       0.0   \n",
       "2       1.0       0.0            0.0   0.0          0.0       0.0   \n",
       "\n",
       "   Braniborska  Brzoskwiniowa  Buforowa  Buraczana  ...  Zatorska  \\\n",
       "0          0.0            0.0       0.0        0.0  ...       0.0   \n",
       "1          0.0            0.0       0.0        0.0  ...       0.0   \n",
       "2          0.0            0.0       0.0        0.0  ...       0.0   \n",
       "\n",
       "   Zielińskiego  Zwycięska  Zyndrama z maszkowic  other  Łubinowa  Ślężna  \\\n",
       "0           0.0        0.0                   0.0    0.0       0.0     0.0   \n",
       "1           0.0        0.0                   0.0    0.0       0.0     0.0   \n",
       "2           0.0        0.0                   0.0    0.0       0.0     0.0   \n",
       "\n",
       "   Śrutowa  Żeromskiego  Żmudzka  \n",
       "0      0.0          0.0      0.0  \n",
       "1      0.0          0.0      0.0  \n",
       "2      0.0          0.0      0.0  \n",
       "\n",
       "[3 rows x 149 columns]"
      ]
     },
     "execution_count": 29,
     "metadata": {},
     "output_type": "execute_result"
    }
   ],
   "source": [
    "dummies = pd.get_dummies(df5.street, dtype=float)\n",
    "dummies.head(3)"
   ]
  },
  {
   "cell_type": "code",
   "execution_count": 30,
   "id": "c4d528af-53e2-4881-87f9-5565e9732309",
   "metadata": {
    "scrolled": true
   },
   "outputs": [
    {
     "data": {
      "text/html": [
       "<div>\n",
       "<style scoped>\n",
       "    .dataframe tbody tr th:only-of-type {\n",
       "        vertical-align: middle;\n",
       "    }\n",
       "\n",
       "    .dataframe tbody tr th {\n",
       "        vertical-align: top;\n",
       "    }\n",
       "\n",
       "    .dataframe thead th {\n",
       "        text-align: right;\n",
       "    }\n",
       "</style>\n",
       "<table border=\"1\" class=\"dataframe\">\n",
       "  <thead>\n",
       "    <tr style=\"text-align: right;\">\n",
       "      <th></th>\n",
       "      <th>price</th>\n",
       "      <th>size</th>\n",
       "      <th>terrace</th>\n",
       "      <th>floor</th>\n",
       "      <th>rooms</th>\n",
       "      <th>street</th>\n",
       "      <th>Arbuzowa</th>\n",
       "      <th>Awicenny</th>\n",
       "      <th>Bacciarellego</th>\n",
       "      <th>Bema</th>\n",
       "      <th>...</th>\n",
       "      <th>Zarembowicza</th>\n",
       "      <th>Zatorska</th>\n",
       "      <th>Zielińskiego</th>\n",
       "      <th>Zwycięska</th>\n",
       "      <th>Zyndrama z maszkowic</th>\n",
       "      <th>Łubinowa</th>\n",
       "      <th>Ślężna</th>\n",
       "      <th>Śrutowa</th>\n",
       "      <th>Żeromskiego</th>\n",
       "      <th>Żmudzka</th>\n",
       "    </tr>\n",
       "  </thead>\n",
       "  <tbody>\n",
       "    <tr>\n",
       "      <th>0</th>\n",
       "      <td>3500</td>\n",
       "      <td>57.2</td>\n",
       "      <td>0</td>\n",
       "      <td>1.0</td>\n",
       "      <td>3.0</td>\n",
       "      <td>Arbuzowa</td>\n",
       "      <td>1.0</td>\n",
       "      <td>0.0</td>\n",
       "      <td>0.0</td>\n",
       "      <td>0.0</td>\n",
       "      <td>...</td>\n",
       "      <td>0.0</td>\n",
       "      <td>0.0</td>\n",
       "      <td>0.0</td>\n",
       "      <td>0.0</td>\n",
       "      <td>0.0</td>\n",
       "      <td>0.0</td>\n",
       "      <td>0.0</td>\n",
       "      <td>0.0</td>\n",
       "      <td>0.0</td>\n",
       "      <td>0.0</td>\n",
       "    </tr>\n",
       "    <tr>\n",
       "      <th>1</th>\n",
       "      <td>2801</td>\n",
       "      <td>45.0</td>\n",
       "      <td>0</td>\n",
       "      <td>3.0</td>\n",
       "      <td>2.0</td>\n",
       "      <td>Arbuzowa</td>\n",
       "      <td>1.0</td>\n",
       "      <td>0.0</td>\n",
       "      <td>0.0</td>\n",
       "      <td>0.0</td>\n",
       "      <td>...</td>\n",
       "      <td>0.0</td>\n",
       "      <td>0.0</td>\n",
       "      <td>0.0</td>\n",
       "      <td>0.0</td>\n",
       "      <td>0.0</td>\n",
       "      <td>0.0</td>\n",
       "      <td>0.0</td>\n",
       "      <td>0.0</td>\n",
       "      <td>0.0</td>\n",
       "      <td>0.0</td>\n",
       "    </tr>\n",
       "    <tr>\n",
       "      <th>2</th>\n",
       "      <td>2800</td>\n",
       "      <td>45.0</td>\n",
       "      <td>0</td>\n",
       "      <td>3.0</td>\n",
       "      <td>2.0</td>\n",
       "      <td>Arbuzowa</td>\n",
       "      <td>1.0</td>\n",
       "      <td>0.0</td>\n",
       "      <td>0.0</td>\n",
       "      <td>0.0</td>\n",
       "      <td>...</td>\n",
       "      <td>0.0</td>\n",
       "      <td>0.0</td>\n",
       "      <td>0.0</td>\n",
       "      <td>0.0</td>\n",
       "      <td>0.0</td>\n",
       "      <td>0.0</td>\n",
       "      <td>0.0</td>\n",
       "      <td>0.0</td>\n",
       "      <td>0.0</td>\n",
       "      <td>0.0</td>\n",
       "    </tr>\n",
       "    <tr>\n",
       "      <th>3</th>\n",
       "      <td>2600</td>\n",
       "      <td>62.0</td>\n",
       "      <td>0</td>\n",
       "      <td>0.0</td>\n",
       "      <td>3.0</td>\n",
       "      <td>Arbuzowa</td>\n",
       "      <td>1.0</td>\n",
       "      <td>0.0</td>\n",
       "      <td>0.0</td>\n",
       "      <td>0.0</td>\n",
       "      <td>...</td>\n",
       "      <td>0.0</td>\n",
       "      <td>0.0</td>\n",
       "      <td>0.0</td>\n",
       "      <td>0.0</td>\n",
       "      <td>0.0</td>\n",
       "      <td>0.0</td>\n",
       "      <td>0.0</td>\n",
       "      <td>0.0</td>\n",
       "      <td>0.0</td>\n",
       "      <td>0.0</td>\n",
       "    </tr>\n",
       "    <tr>\n",
       "      <th>4</th>\n",
       "      <td>2500</td>\n",
       "      <td>42.0</td>\n",
       "      <td>0</td>\n",
       "      <td>1.0</td>\n",
       "      <td>2.0</td>\n",
       "      <td>Arbuzowa</td>\n",
       "      <td>1.0</td>\n",
       "      <td>0.0</td>\n",
       "      <td>0.0</td>\n",
       "      <td>0.0</td>\n",
       "      <td>...</td>\n",
       "      <td>0.0</td>\n",
       "      <td>0.0</td>\n",
       "      <td>0.0</td>\n",
       "      <td>0.0</td>\n",
       "      <td>0.0</td>\n",
       "      <td>0.0</td>\n",
       "      <td>0.0</td>\n",
       "      <td>0.0</td>\n",
       "      <td>0.0</td>\n",
       "      <td>0.0</td>\n",
       "    </tr>\n",
       "  </tbody>\n",
       "</table>\n",
       "<p>5 rows × 154 columns</p>\n",
       "</div>"
      ],
      "text/plain": [
       "   price  size  terrace  floor  rooms    street  Arbuzowa  Awicenny  \\\n",
       "0   3500  57.2        0    1.0    3.0  Arbuzowa       1.0       0.0   \n",
       "1   2801  45.0        0    3.0    2.0  Arbuzowa       1.0       0.0   \n",
       "2   2800  45.0        0    3.0    2.0  Arbuzowa       1.0       0.0   \n",
       "3   2600  62.0        0    0.0    3.0  Arbuzowa       1.0       0.0   \n",
       "4   2500  42.0        0    1.0    2.0  Arbuzowa       1.0       0.0   \n",
       "\n",
       "   Bacciarellego  Bema  ...  Zarembowicza  Zatorska  Zielińskiego  Zwycięska  \\\n",
       "0            0.0   0.0  ...           0.0       0.0           0.0        0.0   \n",
       "1            0.0   0.0  ...           0.0       0.0           0.0        0.0   \n",
       "2            0.0   0.0  ...           0.0       0.0           0.0        0.0   \n",
       "3            0.0   0.0  ...           0.0       0.0           0.0        0.0   \n",
       "4            0.0   0.0  ...           0.0       0.0           0.0        0.0   \n",
       "\n",
       "   Zyndrama z maszkowic  Łubinowa  Ślężna  Śrutowa  Żeromskiego  Żmudzka  \n",
       "0                   0.0       0.0     0.0      0.0          0.0      0.0  \n",
       "1                   0.0       0.0     0.0      0.0          0.0      0.0  \n",
       "2                   0.0       0.0     0.0      0.0          0.0      0.0  \n",
       "3                   0.0       0.0     0.0      0.0          0.0      0.0  \n",
       "4                   0.0       0.0     0.0      0.0          0.0      0.0  \n",
       "\n",
       "[5 rows x 154 columns]"
      ]
     },
     "execution_count": 30,
     "metadata": {},
     "output_type": "execute_result"
    }
   ],
   "source": [
    "df6 = pd.concat([df5,dummies.drop('other',axis='columns')],axis='columns')\n",
    "df6.head()"
   ]
  },
  {
   "cell_type": "code",
   "execution_count": 31,
   "id": "fb9a3fd0-6746-4feb-95d8-4ca3e713c7f9",
   "metadata": {},
   "outputs": [
    {
     "data": {
      "text/html": [
       "<div>\n",
       "<style scoped>\n",
       "    .dataframe tbody tr th:only-of-type {\n",
       "        vertical-align: middle;\n",
       "    }\n",
       "\n",
       "    .dataframe tbody tr th {\n",
       "        vertical-align: top;\n",
       "    }\n",
       "\n",
       "    .dataframe thead th {\n",
       "        text-align: right;\n",
       "    }\n",
       "</style>\n",
       "<table border=\"1\" class=\"dataframe\">\n",
       "  <thead>\n",
       "    <tr style=\"text-align: right;\">\n",
       "      <th></th>\n",
       "      <th>price</th>\n",
       "      <th>size</th>\n",
       "      <th>terrace</th>\n",
       "      <th>floor</th>\n",
       "      <th>rooms</th>\n",
       "      <th>Arbuzowa</th>\n",
       "      <th>Awicenny</th>\n",
       "      <th>Bacciarellego</th>\n",
       "      <th>Bema</th>\n",
       "      <th>Białowieska</th>\n",
       "      <th>...</th>\n",
       "      <th>Zarembowicza</th>\n",
       "      <th>Zatorska</th>\n",
       "      <th>Zielińskiego</th>\n",
       "      <th>Zwycięska</th>\n",
       "      <th>Zyndrama z maszkowic</th>\n",
       "      <th>Łubinowa</th>\n",
       "      <th>Ślężna</th>\n",
       "      <th>Śrutowa</th>\n",
       "      <th>Żeromskiego</th>\n",
       "      <th>Żmudzka</th>\n",
       "    </tr>\n",
       "  </thead>\n",
       "  <tbody>\n",
       "    <tr>\n",
       "      <th>0</th>\n",
       "      <td>3500</td>\n",
       "      <td>57.2</td>\n",
       "      <td>0</td>\n",
       "      <td>1.0</td>\n",
       "      <td>3.0</td>\n",
       "      <td>1.0</td>\n",
       "      <td>0.0</td>\n",
       "      <td>0.0</td>\n",
       "      <td>0.0</td>\n",
       "      <td>0.0</td>\n",
       "      <td>...</td>\n",
       "      <td>0.0</td>\n",
       "      <td>0.0</td>\n",
       "      <td>0.0</td>\n",
       "      <td>0.0</td>\n",
       "      <td>0.0</td>\n",
       "      <td>0.0</td>\n",
       "      <td>0.0</td>\n",
       "      <td>0.0</td>\n",
       "      <td>0.0</td>\n",
       "      <td>0.0</td>\n",
       "    </tr>\n",
       "    <tr>\n",
       "      <th>1</th>\n",
       "      <td>2801</td>\n",
       "      <td>45.0</td>\n",
       "      <td>0</td>\n",
       "      <td>3.0</td>\n",
       "      <td>2.0</td>\n",
       "      <td>1.0</td>\n",
       "      <td>0.0</td>\n",
       "      <td>0.0</td>\n",
       "      <td>0.0</td>\n",
       "      <td>0.0</td>\n",
       "      <td>...</td>\n",
       "      <td>0.0</td>\n",
       "      <td>0.0</td>\n",
       "      <td>0.0</td>\n",
       "      <td>0.0</td>\n",
       "      <td>0.0</td>\n",
       "      <td>0.0</td>\n",
       "      <td>0.0</td>\n",
       "      <td>0.0</td>\n",
       "      <td>0.0</td>\n",
       "      <td>0.0</td>\n",
       "    </tr>\n",
       "  </tbody>\n",
       "</table>\n",
       "<p>2 rows × 153 columns</p>\n",
       "</div>"
      ],
      "text/plain": [
       "   price  size  terrace  floor  rooms  Arbuzowa  Awicenny  Bacciarellego  \\\n",
       "0   3500  57.2        0    1.0    3.0       1.0       0.0            0.0   \n",
       "1   2801  45.0        0    3.0    2.0       1.0       0.0            0.0   \n",
       "\n",
       "   Bema  Białowieska  ...  Zarembowicza  Zatorska  Zielińskiego  Zwycięska  \\\n",
       "0   0.0          0.0  ...           0.0       0.0           0.0        0.0   \n",
       "1   0.0          0.0  ...           0.0       0.0           0.0        0.0   \n",
       "\n",
       "   Zyndrama z maszkowic  Łubinowa  Ślężna  Śrutowa  Żeromskiego  Żmudzka  \n",
       "0                   0.0       0.0     0.0      0.0          0.0      0.0  \n",
       "1                   0.0       0.0     0.0      0.0          0.0      0.0  \n",
       "\n",
       "[2 rows x 153 columns]"
      ]
     },
     "execution_count": 31,
     "metadata": {},
     "output_type": "execute_result"
    }
   ],
   "source": [
    "df7 = df6.drop('street',axis='columns')\n",
    "df7.head(2)"
   ]
  },
  {
   "cell_type": "code",
   "execution_count": 32,
   "id": "dcea42e3-90b4-4bd2-87ba-02aee04c3a35",
   "metadata": {},
   "outputs": [
    {
     "data": {
      "text/html": [
       "<div>\n",
       "<style scoped>\n",
       "    .dataframe tbody tr th:only-of-type {\n",
       "        vertical-align: middle;\n",
       "    }\n",
       "\n",
       "    .dataframe tbody tr th {\n",
       "        vertical-align: top;\n",
       "    }\n",
       "\n",
       "    .dataframe thead th {\n",
       "        text-align: right;\n",
       "    }\n",
       "</style>\n",
       "<table border=\"1\" class=\"dataframe\">\n",
       "  <thead>\n",
       "    <tr style=\"text-align: right;\">\n",
       "      <th></th>\n",
       "      <th>size</th>\n",
       "      <th>terrace</th>\n",
       "      <th>floor</th>\n",
       "      <th>rooms</th>\n",
       "      <th>Arbuzowa</th>\n",
       "      <th>Awicenny</th>\n",
       "      <th>Bacciarellego</th>\n",
       "      <th>Bema</th>\n",
       "      <th>Białowieska</th>\n",
       "      <th>Borowska</th>\n",
       "      <th>...</th>\n",
       "      <th>Zarembowicza</th>\n",
       "      <th>Zatorska</th>\n",
       "      <th>Zielińskiego</th>\n",
       "      <th>Zwycięska</th>\n",
       "      <th>Zyndrama z maszkowic</th>\n",
       "      <th>Łubinowa</th>\n",
       "      <th>Ślężna</th>\n",
       "      <th>Śrutowa</th>\n",
       "      <th>Żeromskiego</th>\n",
       "      <th>Żmudzka</th>\n",
       "    </tr>\n",
       "  </thead>\n",
       "  <tbody>\n",
       "    <tr>\n",
       "      <th>0</th>\n",
       "      <td>57.2</td>\n",
       "      <td>0</td>\n",
       "      <td>1.0</td>\n",
       "      <td>3.0</td>\n",
       "      <td>1.0</td>\n",
       "      <td>0.0</td>\n",
       "      <td>0.0</td>\n",
       "      <td>0.0</td>\n",
       "      <td>0.0</td>\n",
       "      <td>0.0</td>\n",
       "      <td>...</td>\n",
       "      <td>0.0</td>\n",
       "      <td>0.0</td>\n",
       "      <td>0.0</td>\n",
       "      <td>0.0</td>\n",
       "      <td>0.0</td>\n",
       "      <td>0.0</td>\n",
       "      <td>0.0</td>\n",
       "      <td>0.0</td>\n",
       "      <td>0.0</td>\n",
       "      <td>0.0</td>\n",
       "    </tr>\n",
       "    <tr>\n",
       "      <th>1</th>\n",
       "      <td>45.0</td>\n",
       "      <td>0</td>\n",
       "      <td>3.0</td>\n",
       "      <td>2.0</td>\n",
       "      <td>1.0</td>\n",
       "      <td>0.0</td>\n",
       "      <td>0.0</td>\n",
       "      <td>0.0</td>\n",
       "      <td>0.0</td>\n",
       "      <td>0.0</td>\n",
       "      <td>...</td>\n",
       "      <td>0.0</td>\n",
       "      <td>0.0</td>\n",
       "      <td>0.0</td>\n",
       "      <td>0.0</td>\n",
       "      <td>0.0</td>\n",
       "      <td>0.0</td>\n",
       "      <td>0.0</td>\n",
       "      <td>0.0</td>\n",
       "      <td>0.0</td>\n",
       "      <td>0.0</td>\n",
       "    </tr>\n",
       "    <tr>\n",
       "      <th>2</th>\n",
       "      <td>45.0</td>\n",
       "      <td>0</td>\n",
       "      <td>3.0</td>\n",
       "      <td>2.0</td>\n",
       "      <td>1.0</td>\n",
       "      <td>0.0</td>\n",
       "      <td>0.0</td>\n",
       "      <td>0.0</td>\n",
       "      <td>0.0</td>\n",
       "      <td>0.0</td>\n",
       "      <td>...</td>\n",
       "      <td>0.0</td>\n",
       "      <td>0.0</td>\n",
       "      <td>0.0</td>\n",
       "      <td>0.0</td>\n",
       "      <td>0.0</td>\n",
       "      <td>0.0</td>\n",
       "      <td>0.0</td>\n",
       "      <td>0.0</td>\n",
       "      <td>0.0</td>\n",
       "      <td>0.0</td>\n",
       "    </tr>\n",
       "  </tbody>\n",
       "</table>\n",
       "<p>3 rows × 152 columns</p>\n",
       "</div>"
      ],
      "text/plain": [
       "   size  terrace  floor  rooms  Arbuzowa  Awicenny  Bacciarellego  Bema  \\\n",
       "0  57.2        0    1.0    3.0       1.0       0.0            0.0   0.0   \n",
       "1  45.0        0    3.0    2.0       1.0       0.0            0.0   0.0   \n",
       "2  45.0        0    3.0    2.0       1.0       0.0            0.0   0.0   \n",
       "\n",
       "   Białowieska  Borowska  ...  Zarembowicza  Zatorska  Zielińskiego  \\\n",
       "0          0.0       0.0  ...           0.0       0.0           0.0   \n",
       "1          0.0       0.0  ...           0.0       0.0           0.0   \n",
       "2          0.0       0.0  ...           0.0       0.0           0.0   \n",
       "\n",
       "   Zwycięska  Zyndrama z maszkowic  Łubinowa  Ślężna  Śrutowa  Żeromskiego  \\\n",
       "0        0.0                   0.0       0.0     0.0      0.0          0.0   \n",
       "1        0.0                   0.0       0.0     0.0      0.0          0.0   \n",
       "2        0.0                   0.0       0.0     0.0      0.0          0.0   \n",
       "\n",
       "   Żmudzka  \n",
       "0      0.0  \n",
       "1      0.0  \n",
       "2      0.0  \n",
       "\n",
       "[3 rows x 152 columns]"
      ]
     },
     "execution_count": 32,
     "metadata": {},
     "output_type": "execute_result"
    }
   ],
   "source": [
    "X = df7.drop(['price'],axis='columns')\n",
    "X.head(3)"
   ]
  },
  {
   "cell_type": "code",
   "execution_count": 33,
   "id": "3b5462d6-1e51-4dfd-833a-d4f36432a638",
   "metadata": {},
   "outputs": [
    {
     "data": {
      "text/plain": [
       "0    3500\n",
       "1    2801\n",
       "2    2800\n",
       "Name: price, dtype: int64"
      ]
     },
     "execution_count": 33,
     "metadata": {},
     "output_type": "execute_result"
    }
   ],
   "source": [
    "y = df7.price\n",
    "y.head(3)"
   ]
  },
  {
   "cell_type": "code",
   "execution_count": 34,
   "id": "20d2b9b8-515c-425a-a6f9-48b38263be62",
   "metadata": {},
   "outputs": [],
   "source": [
    "from sklearn.model_selection import train_test_split\n",
    "X_train, X_test, y_train, y_test = train_test_split(X,y,test_size=0.3,random_state=33)"
   ]
  },
  {
   "cell_type": "code",
   "execution_count": 35,
   "id": "17d3c583-a96a-4eb4-9301-e49e8dc5615f",
   "metadata": {},
   "outputs": [
    {
     "data": {
      "text/plain": [
       "0.8157140409921884"
      ]
     },
     "execution_count": 35,
     "metadata": {},
     "output_type": "execute_result"
    }
   ],
   "source": [
    "from sklearn.linear_model import LinearRegression\n",
    "lr_clf = LinearRegression()\n",
    "lr_clf.fit(X_train,y_train)\n",
    "lr_clf.score(X_test,y_test)"
   ]
  },
  {
   "cell_type": "code",
   "execution_count": 36,
   "id": "3c9f8d39-f64a-4288-93b4-66a02d754e9f",
   "metadata": {},
   "outputs": [
    {
     "data": {
      "text/plain": [
       "array([0.81571404, 0.82667926, 0.830459  , 0.8457213 , 0.8097597 ])"
      ]
     },
     "execution_count": 36,
     "metadata": {},
     "output_type": "execute_result"
    }
   ],
   "source": [
    "from sklearn.model_selection import ShuffleSplit\n",
    "from sklearn.model_selection import cross_val_score\n",
    "\n",
    "cv = ShuffleSplit(n_splits=5, test_size=0.3, random_state=33)\n",
    "\n",
    "cross_val_score(LinearRegression(), X, y, cv=cv)"
   ]
  },
  {
   "cell_type": "code",
   "execution_count": 37,
   "id": "53e2dff6-b46a-43ee-85bc-52ff93102e40",
   "metadata": {},
   "outputs": [
    {
     "name": "stderr",
     "output_type": "stream",
     "text": [
      "/home/tomallos/miniconda3/envs/tf/lib/python3.11/site-packages/sklearn/model_selection/_validation.py:425: FitFailedWarning: \n",
      "10 fits failed out of a total of 20.\n",
      "The score on these train-test partitions for these parameters will be set to nan.\n",
      "If these failures are not expected, you can try to debug them by setting error_score='raise'.\n",
      "\n",
      "Below are more details about the failures:\n",
      "--------------------------------------------------------------------------------\n",
      "10 fits failed with the following error:\n",
      "Traceback (most recent call last):\n",
      "  File \"/home/tomallos/miniconda3/envs/tf/lib/python3.11/site-packages/sklearn/model_selection/_validation.py\", line 729, in _fit_and_score\n",
      "    estimator.fit(X_train, y_train, **fit_params)\n",
      "  File \"/home/tomallos/miniconda3/envs/tf/lib/python3.11/site-packages/sklearn/base.py\", line 1145, in wrapper\n",
      "    estimator._validate_params()\n",
      "  File \"/home/tomallos/miniconda3/envs/tf/lib/python3.11/site-packages/sklearn/base.py\", line 638, in _validate_params\n",
      "    validate_parameter_constraints(\n",
      "  File \"/home/tomallos/miniconda3/envs/tf/lib/python3.11/site-packages/sklearn/utils/_param_validation.py\", line 95, in validate_parameter_constraints\n",
      "    raise InvalidParameterError(\n",
      "sklearn.utils._param_validation.InvalidParameterError: The 'criterion' parameter of DecisionTreeRegressor must be a str among {'friedman_mse', 'absolute_error', 'squared_error', 'poisson'}. Got 'mse' instead.\n",
      "\n",
      "  warnings.warn(some_fits_failed_message, FitFailedWarning)\n",
      "/home/tomallos/miniconda3/envs/tf/lib/python3.11/site-packages/sklearn/model_selection/_search.py:979: UserWarning: One or more of the test scores are non-finite: [       nan        nan 0.71555155 0.73315489]\n",
      "  warnings.warn(\n",
      "/home/tomallos/miniconda3/envs/tf/lib/python3.11/site-packages/sklearn/model_selection/_search.py:979: UserWarning: One or more of the train scores are non-finite: [       nan        nan 0.98243377 0.98243377]\n",
      "  warnings.warn(\n"
     ]
    },
    {
     "data": {
      "text/html": [
       "<div>\n",
       "<style scoped>\n",
       "    .dataframe tbody tr th:only-of-type {\n",
       "        vertical-align: middle;\n",
       "    }\n",
       "\n",
       "    .dataframe tbody tr th {\n",
       "        vertical-align: top;\n",
       "    }\n",
       "\n",
       "    .dataframe thead th {\n",
       "        text-align: right;\n",
       "    }\n",
       "</style>\n",
       "<table border=\"1\" class=\"dataframe\">\n",
       "  <thead>\n",
       "    <tr style=\"text-align: right;\">\n",
       "      <th></th>\n",
       "      <th>model</th>\n",
       "      <th>best_score</th>\n",
       "      <th>best_params</th>\n",
       "    </tr>\n",
       "  </thead>\n",
       "  <tbody>\n",
       "    <tr>\n",
       "      <th>0</th>\n",
       "      <td>linear_regression</td>\n",
       "      <td>0.825667</td>\n",
       "      <td>{'copy_X': False}</td>\n",
       "    </tr>\n",
       "    <tr>\n",
       "      <th>1</th>\n",
       "      <td>lasso</td>\n",
       "      <td>0.805716</td>\n",
       "      <td>{'alpha': 1, 'selection': 'cyclic'}</td>\n",
       "    </tr>\n",
       "    <tr>\n",
       "      <th>2</th>\n",
       "      <td>decision_tree</td>\n",
       "      <td>0.733155</td>\n",
       "      <td>{'criterion': 'friedman_mse', 'splitter': 'ran...</td>\n",
       "    </tr>\n",
       "  </tbody>\n",
       "</table>\n",
       "</div>"
      ],
      "text/plain": [
       "               model  best_score  \\\n",
       "0  linear_regression    0.825667   \n",
       "1              lasso    0.805716   \n",
       "2      decision_tree    0.733155   \n",
       "\n",
       "                                         best_params  \n",
       "0                                  {'copy_X': False}  \n",
       "1                {'alpha': 1, 'selection': 'cyclic'}  \n",
       "2  {'criterion': 'friedman_mse', 'splitter': 'ran...  "
      ]
     },
     "execution_count": 37,
     "metadata": {},
     "output_type": "execute_result"
    }
   ],
   "source": [
    "from sklearn.model_selection import GridSearchCV\n",
    "\n",
    "from sklearn.linear_model import Lasso\n",
    "from sklearn.tree import DecisionTreeRegressor\n",
    "\n",
    "def find_best_model_using_gridsearchcv(X,y):\n",
    "    algos = {\n",
    "        'linear_regression' : {\n",
    "            'model': LinearRegression(),\n",
    "            'params': {\n",
    "                'copy_X': [False]\n",
    "            }\n",
    "        },\n",
    "        'lasso': {\n",
    "            'model': Lasso(),\n",
    "            'params': {\n",
    "                'alpha': [1,2],\n",
    "                'selection': ['random', 'cyclic']\n",
    "            }\n",
    "        },\n",
    "        'decision_tree': {\n",
    "            'model': DecisionTreeRegressor(),\n",
    "            'params': {\n",
    "                'criterion' : ['mse','friedman_mse'],\n",
    "                'splitter': ['best','random']\n",
    "            }\n",
    "        }\n",
    "    }\n",
    "    scores = []\n",
    "    cv = ShuffleSplit(n_splits=5, test_size=0.3, random_state=33)\n",
    "    for algo_name, config in algos.items():\n",
    "        gs =  GridSearchCV(config['model'], config['params'], cv=cv, return_train_score=True)\n",
    "        gs.fit(X,y)\n",
    "        scores.append({\n",
    "            'model': algo_name,\n",
    "            'best_score': gs.best_score_,\n",
    "            'best_params': gs.best_params_\n",
    "        })\n",
    "\n",
    "    return pd.DataFrame(scores,columns=['model','best_score','best_params'])\n",
    "\n",
    "find_best_model_using_gridsearchcv(X,y)"
   ]
  },
  {
   "cell_type": "code",
   "execution_count": 38,
   "id": "84354565-4ef4-4a37-b8cb-4c07a44bf559",
   "metadata": {},
   "outputs": [],
   "source": [
    "def predict_price(street, sqr, rooms, floor, terrace):    \n",
    "    loc_index = np.where(X.columns==street)[0][0]\n",
    "\n",
    "    x = np.zeros(len(X.columns))\n",
    "    x[0] = sqr\n",
    "    x[1] = rooms\n",
    "    x[2] = floor\n",
    "    x[3] = terrace\n",
    "    if loc_index >= 0:\n",
    "        x[loc_index] = 1\n",
    "\n",
    "    return lr_clf.predict([x])[0]"
   ]
  },
  {
   "cell_type": "code",
   "execution_count": 39,
   "id": "6baf84ce-44ce-4c6c-a4aa-5df18c400b63",
   "metadata": {},
   "outputs": [
    {
     "name": "stderr",
     "output_type": "stream",
     "text": [
      "/home/tomallos/miniconda3/envs/tf/lib/python3.11/site-packages/sklearn/base.py:465: UserWarning: X does not have valid feature names, but LinearRegression was fitted with feature names\n",
      "  warnings.warn(\n"
     ]
    },
    {
     "data": {
      "text/plain": [
       "6616.681104721312"
      ]
     },
     "execution_count": 39,
     "metadata": {},
     "output_type": "execute_result"
    }
   ],
   "source": [
    "predict_price('Bema',100, 3, 2, 1)"
   ]
  },
  {
   "cell_type": "code",
   "execution_count": 40,
   "id": "62ef342b-c4ec-4cd2-a4de-b2c5d9f6d4e3",
   "metadata": {},
   "outputs": [
    {
     "name": "stderr",
     "output_type": "stream",
     "text": [
      "/home/tomallos/miniconda3/envs/tf/lib/python3.11/site-packages/sklearn/base.py:465: UserWarning: X does not have valid feature names, but LinearRegression was fitted with feature names\n",
      "  warnings.warn(\n"
     ]
    },
    {
     "data": {
      "text/plain": [
       "3837.761177395815"
      ]
     },
     "execution_count": 40,
     "metadata": {},
     "output_type": "execute_result"
    }
   ],
   "source": [
    "predict_price('Zarembowicza',50, 2, 2, 1)"
   ]
  },
  {
   "cell_type": "code",
   "execution_count": 41,
   "id": "2f030552-175f-448d-88e8-05195455b31d",
   "metadata": {},
   "outputs": [
    {
     "name": "stderr",
     "output_type": "stream",
     "text": [
      "/home/tomallos/miniconda3/envs/tf/lib/python3.11/site-packages/sklearn/base.py:465: UserWarning: X does not have valid feature names, but LinearRegression was fitted with feature names\n",
      "  warnings.warn(\n"
     ]
    },
    {
     "data": {
      "text/plain": [
       "3815.377121540872"
      ]
     },
     "execution_count": 41,
     "metadata": {},
     "output_type": "execute_result"
    }
   ],
   "source": [
    "predict_price('Zarembowicza',50, 2, 2, 0)"
   ]
  },
  {
   "cell_type": "code",
   "execution_count": 42,
   "id": "60950773-21c0-424e-a27a-1376cb8fd192",
   "metadata": {},
   "outputs": [],
   "source": [
    "import pickle\n",
    "with open('Prediction.pickle','wb') as f:\n",
    "    pickle.dump(lr_clf,f)"
   ]
  },
  {
   "cell_type": "code",
   "execution_count": 43,
   "id": "37dc3c19-2812-4af1-8c15-68a9e361a3c9",
   "metadata": {},
   "outputs": [],
   "source": [
    "import json\n",
    "columns = {\n",
    "    'data_columns' : [col.lower() for col in X.columns]\n",
    "}\n",
    "with open(\"columns.json\",\"w\") as f:\n",
    "    f.write(json.dumps(columns))\n"
   ]
  }
 ],
 "metadata": {
  "kernelspec": {
   "display_name": "tf",
   "language": "python",
   "name": "python3"
  },
  "language_info": {
   "codemirror_mode": {
    "name": "ipython",
    "version": 3
   },
   "file_extension": ".py",
   "mimetype": "text/x-python",
   "name": "python",
   "nbconvert_exporter": "python",
   "pygments_lexer": "ipython3",
   "version": "3.11.4"
  }
 },
 "nbformat": 4,
 "nbformat_minor": 5
}
